{
  "nbformat": 4,
  "nbformat_minor": 0,
  "metadata": {
    "colab": {
      "name": "wordcount-pandas-01.ipynb",
      "provenance": [],
      "authorship_tag": "ABX9TyP5DEutAwfTsny3WRUmAXo0",
      "include_colab_link": true
    },
    "kernelspec": {
      "name": "python3",
      "display_name": "Python 3"
    }
  },
  "cells": [
    {
      "cell_type": "markdown",
      "metadata": {
        "id": "view-in-github",
        "colab_type": "text"
      },
      "source": [
        "<a href=\"https://colab.research.google.com/github/wcj365/word-count/blob/master/wordcount_pandas_01.ipynb\" target=\"_parent\"><img src=\"https://colab.research.google.com/assets/colab-badge.svg\" alt=\"Open In Colab\"/></a>"
      ]
    },
    {
      "cell_type": "markdown",
      "metadata": {
        "id": "H04ZWML-EmR2",
        "colab_type": "text"
      },
      "source": [
        "# Simple Word Count Program"
      ]
    },
    {
      "cell_type": "code",
      "metadata": {
        "id": "hplNm2ZkH5uF",
        "colab_type": "code",
        "colab": {}
      },
      "source": [
        "import os\n",
        "import pandas as pd\n",
        "\n",
        "FILE = \"hamlet.txt\""
      ],
      "execution_count": 0,
      "outputs": []
    },
    {
      "cell_type": "code",
      "metadata": {
        "id": "0tXL75rz6pnF",
        "colab_type": "code",
        "colab": {}
      },
      "source": [
        "# Create a sameple data file\n",
        "\n",
        "with open(FILE, \"w\") as file:   # \"w\" = write\n",
        "    file.write(\"To be or\\n\")            # \"\\n\" = new line\n",
        "    file.write(\"Not to be\")\n"
      ],
      "execution_count": 0,
      "outputs": []
    },
    {
      "cell_type": "code",
      "metadata": {
        "id": "jc0ua7Rn9w2o",
        "colab_type": "code",
        "colab": {
          "base_uri": "https://localhost:8080/",
          "height": 35
        },
        "outputId": "9306897a-c63a-40be-9179-0a7603d1e2ec"
      },
      "source": [
        "# Read the lines from the file\n",
        "\n",
        "with open(FILE, \"r\") as file:   # \"r\" = read\n",
        "    lines = file.readlines()\n",
        "\n",
        "print(lines)"
      ],
      "execution_count": 39,
      "outputs": [
        {
          "output_type": "stream",
          "text": [
            "['To be or\\n', 'Not to be']\n"
          ],
          "name": "stdout"
        }
      ]
    },
    {
      "cell_type": "code",
      "metadata": {
        "id": "3Lr_WalkAc9y",
        "colab_type": "code",
        "colab": {
          "base_uri": "https://localhost:8080/",
          "height": 35
        },
        "outputId": "fa966edb-0c27-4e46-c498-df9b77f83e25"
      },
      "source": [
        "# Split the lines into lower-case words \n",
        "\n",
        "words = []\n",
        "\n",
        "for line in lines:\n",
        "    line = line.rstrip(\"\\n\")            # remove the extra \"\\n\"  \n",
        "    for word in line.split(\" \"):        # space delimited\n",
        "        words.append(word.lower())      # lower-case\n",
        "\n",
        "words"
      ],
      "execution_count": 40,
      "outputs": [
        {
          "output_type": "execute_result",
          "data": {
            "text/plain": [
              "['to', 'be', 'or', 'not', 'to', 'be']"
            ]
          },
          "metadata": {
            "tags": []
          },
          "execution_count": 40
        }
      ]
    },
    {
      "cell_type": "code",
      "metadata": {
        "id": "4D_SkvkSBviP",
        "colab_type": "code",
        "colab": {
          "base_uri": "https://localhost:8080/",
          "height": 233
        },
        "outputId": "e3e2261b-bafd-41ae-e208-78a74468788b"
      },
      "source": [
        "# Approach 1 - Does not work \n",
        "# Convert the list to a Pandas Data Frame\n",
        "\n",
        "df = pd.DataFrame(words,columns=[\"Word\"])\n",
        "df"
      ],
      "execution_count": 41,
      "outputs": [
        {
          "output_type": "execute_result",
          "data": {
            "text/html": [
              "<div>\n",
              "<style scoped>\n",
              "    .dataframe tbody tr th:only-of-type {\n",
              "        vertical-align: middle;\n",
              "    }\n",
              "\n",
              "    .dataframe tbody tr th {\n",
              "        vertical-align: top;\n",
              "    }\n",
              "\n",
              "    .dataframe thead th {\n",
              "        text-align: right;\n",
              "    }\n",
              "</style>\n",
              "<table border=\"1\" class=\"dataframe\">\n",
              "  <thead>\n",
              "    <tr style=\"text-align: right;\">\n",
              "      <th></th>\n",
              "      <th>Word</th>\n",
              "    </tr>\n",
              "  </thead>\n",
              "  <tbody>\n",
              "    <tr>\n",
              "      <th>0</th>\n",
              "      <td>to</td>\n",
              "    </tr>\n",
              "    <tr>\n",
              "      <th>1</th>\n",
              "      <td>be</td>\n",
              "    </tr>\n",
              "    <tr>\n",
              "      <th>2</th>\n",
              "      <td>or</td>\n",
              "    </tr>\n",
              "    <tr>\n",
              "      <th>3</th>\n",
              "      <td>not</td>\n",
              "    </tr>\n",
              "    <tr>\n",
              "      <th>4</th>\n",
              "      <td>to</td>\n",
              "    </tr>\n",
              "    <tr>\n",
              "      <th>5</th>\n",
              "      <td>be</td>\n",
              "    </tr>\n",
              "  </tbody>\n",
              "</table>\n",
              "</div>"
            ],
            "text/plain": [
              "  Word\n",
              "0   to\n",
              "1   be\n",
              "2   or\n",
              "3  not\n",
              "4   to\n",
              "5   be"
            ]
          },
          "metadata": {
            "tags": []
          },
          "execution_count": 41
        }
      ]
    },
    {
      "cell_type": "code",
      "metadata": {
        "id": "Lz2s-nFlNJmC",
        "colab_type": "code",
        "colab": {
          "base_uri": "https://localhost:8080/",
          "height": 185
        },
        "outputId": "00123a64-2a46-4bf4-ab22-96c2d88102c6"
      },
      "source": [
        "# This identifies unique words but does not give us counts\n",
        "\n",
        "df2 = df.groupby([\"Word\"]).count()\n",
        "df2"
      ],
      "execution_count": 42,
      "outputs": [
        {
          "output_type": "execute_result",
          "data": {
            "text/html": [
              "<div>\n",
              "<style scoped>\n",
              "    .dataframe tbody tr th:only-of-type {\n",
              "        vertical-align: middle;\n",
              "    }\n",
              "\n",
              "    .dataframe tbody tr th {\n",
              "        vertical-align: top;\n",
              "    }\n",
              "\n",
              "    .dataframe thead th {\n",
              "        text-align: right;\n",
              "    }\n",
              "</style>\n",
              "<table border=\"1\" class=\"dataframe\">\n",
              "  <thead>\n",
              "    <tr style=\"text-align: right;\">\n",
              "      <th></th>\n",
              "    </tr>\n",
              "    <tr>\n",
              "      <th>Word</th>\n",
              "    </tr>\n",
              "  </thead>\n",
              "  <tbody>\n",
              "    <tr>\n",
              "      <th>be</th>\n",
              "    </tr>\n",
              "    <tr>\n",
              "      <th>not</th>\n",
              "    </tr>\n",
              "    <tr>\n",
              "      <th>or</th>\n",
              "    </tr>\n",
              "    <tr>\n",
              "      <th>to</th>\n",
              "    </tr>\n",
              "  </tbody>\n",
              "</table>\n",
              "</div>"
            ],
            "text/plain": [
              "Empty DataFrame\n",
              "Columns: []\n",
              "Index: [be, not, or, to]"
            ]
          },
          "metadata": {
            "tags": []
          },
          "execution_count": 42
        }
      ]
    },
    {
      "cell_type": "code",
      "metadata": {
        "id": "XXKwDmsTH3I9",
        "colab_type": "code",
        "colab": {}
      },
      "source": [
        "# Delete the file\n",
        "\n",
        "os.remove(FILE)"
      ],
      "execution_count": 0,
      "outputs": []
    },
    {
      "cell_type": "markdown",
      "metadata": {
        "id": "JvsIVHvR6j0J",
        "colab_type": "text"
      },
      "source": [
        ""
      ]
    }
  ]
}