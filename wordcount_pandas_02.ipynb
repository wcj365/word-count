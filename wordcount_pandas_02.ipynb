{
  "nbformat": 4,
  "nbformat_minor": 0,
  "metadata": {
    "colab": {
      "name": "wordcount-pandas-02.ipynb",
      "provenance": [],
      "authorship_tag": "ABX9TyNbCk7RaGcUYiGFO+OiDa68",
      "include_colab_link": true
    },
    "kernelspec": {
      "name": "python3",
      "display_name": "Python 3"
    }
  },
  "cells": [
    {
      "cell_type": "markdown",
      "metadata": {
        "id": "view-in-github",
        "colab_type": "text"
      },
      "source": [
        "<a href=\"https://colab.research.google.com/github/wcj365/word-count/blob/master/wordcount_pandas_02.ipynb\" target=\"_parent\"><img src=\"https://colab.research.google.com/assets/colab-badge.svg\" alt=\"Open In Colab\"/></a>"
      ]
    },
    {
      "cell_type": "markdown",
      "metadata": {
        "id": "H04ZWML-EmR2",
        "colab_type": "text"
      },
      "source": [
        "# Simple Word Count Program\n",
        "## Use Pandas"
      ]
    },
    {
      "cell_type": "code",
      "metadata": {
        "id": "hplNm2ZkH5uF",
        "colab_type": "code",
        "colab": {}
      },
      "source": [
        "import os\n",
        "import pandas as pd\n",
        "\n",
        "FILE = \"hamlet.txt\""
      ],
      "execution_count": 0,
      "outputs": []
    },
    {
      "cell_type": "code",
      "metadata": {
        "id": "0tXL75rz6pnF",
        "colab_type": "code",
        "colab": {}
      },
      "source": [
        "# Create a sameple data file\n",
        "\n",
        "with open(FILE, \"w\") as file:   # \"w\" = write\n",
        "    file.write(\"To be or\\n\")            # \"\\n\" = new line\n",
        "    file.write(\"Not to be\")\n"
      ],
      "execution_count": 0,
      "outputs": []
    },
    {
      "cell_type": "code",
      "metadata": {
        "id": "jc0ua7Rn9w2o",
        "colab_type": "code",
        "colab": {
          "base_uri": "https://localhost:8080/",
          "height": 35
        },
        "outputId": "3babb58a-5896-49a4-8855-a072a31e6cf3"
      },
      "source": [
        "# Read the lines from the file\n",
        "\n",
        "with open(FILE, \"r\") as file:   # \"r\" = read\n",
        "    lines = file.readlines()\n",
        "\n",
        "print(lines)"
      ],
      "execution_count": 52,
      "outputs": [
        {
          "output_type": "stream",
          "text": [
            "['To be or\\n', 'Not to be']\n"
          ],
          "name": "stdout"
        }
      ]
    },
    {
      "cell_type": "code",
      "metadata": {
        "id": "3Lr_WalkAc9y",
        "colab_type": "code",
        "colab": {
          "base_uri": "https://localhost:8080/",
          "height": 35
        },
        "outputId": "23ca6882-ca83-49fb-bb73-e35aa61309e5"
      },
      "source": [
        "# Split the lines into lower-case words \n",
        "# Add the initial count so that we can use Pandas groupby\n",
        "\n",
        "words = []\n",
        "\n",
        "for line in lines:\n",
        "    line = line.rstrip(\"\\n\")            # remove the extra \"\\n\"  \n",
        "    for word in line.split(\" \"):        # space delimited\n",
        "        words.append([word.lower(),1])  # lower-case, add the inital count\n",
        "\n",
        "words"
      ],
      "execution_count": 53,
      "outputs": [
        {
          "output_type": "execute_result",
          "data": {
            "text/plain": [
              "[['to', 1], ['be', 1], ['or', 1], ['not', 1], ['to', 1], ['be', 1]]"
            ]
          },
          "metadata": {
            "tags": []
          },
          "execution_count": 53
        }
      ]
    },
    {
      "cell_type": "code",
      "metadata": {
        "id": "Lz2s-nFlNJmC",
        "colab_type": "code",
        "colab": {
          "base_uri": "https://localhost:8080/",
          "height": 202
        },
        "outputId": "10a4b4d8-4da0-4a18-dc5b-5bada3ac2f13"
      },
      "source": [
        "# Perform word count\n",
        "\n",
        "df2 = df.groupby([\"Word\"]).count()\n",
        "df2"
      ],
      "execution_count": 54,
      "outputs": [
        {
          "output_type": "execute_result",
          "data": {
            "text/html": [
              "<div>\n",
              "<style scoped>\n",
              "    .dataframe tbody tr th:only-of-type {\n",
              "        vertical-align: middle;\n",
              "    }\n",
              "\n",
              "    .dataframe tbody tr th {\n",
              "        vertical-align: top;\n",
              "    }\n",
              "\n",
              "    .dataframe thead th {\n",
              "        text-align: right;\n",
              "    }\n",
              "</style>\n",
              "<table border=\"1\" class=\"dataframe\">\n",
              "  <thead>\n",
              "    <tr style=\"text-align: right;\">\n",
              "      <th></th>\n",
              "      <th>Count</th>\n",
              "    </tr>\n",
              "    <tr>\n",
              "      <th>Word</th>\n",
              "      <th></th>\n",
              "    </tr>\n",
              "  </thead>\n",
              "  <tbody>\n",
              "    <tr>\n",
              "      <th>be</th>\n",
              "      <td>2</td>\n",
              "    </tr>\n",
              "    <tr>\n",
              "      <th>not</th>\n",
              "      <td>1</td>\n",
              "    </tr>\n",
              "    <tr>\n",
              "      <th>or</th>\n",
              "      <td>1</td>\n",
              "    </tr>\n",
              "    <tr>\n",
              "      <th>to</th>\n",
              "      <td>2</td>\n",
              "    </tr>\n",
              "  </tbody>\n",
              "</table>\n",
              "</div>"
            ],
            "text/plain": [
              "      Count\n",
              "Word       \n",
              "be        2\n",
              "not       1\n",
              "or        1\n",
              "to        2"
            ]
          },
          "metadata": {
            "tags": []
          },
          "execution_count": 54
        }
      ]
    },
    {
      "cell_type": "code",
      "metadata": {
        "id": "XXKwDmsTH3I9",
        "colab_type": "code",
        "colab": {}
      },
      "source": [
        "# Delete the file\n",
        "\n",
        "os.remove(FILE)"
      ],
      "execution_count": 0,
      "outputs": []
    },
    {
      "cell_type": "markdown",
      "metadata": {
        "id": "JvsIVHvR6j0J",
        "colab_type": "text"
      },
      "source": [
        ""
      ]
    }
  ]
}