{
  "nbformat": 4,
  "nbformat_minor": 0,
  "metadata": {
    "colab": {
      "name": "wordcount-python.ipynb",
      "provenance": [],
      "authorship_tag": "ABX9TyOtsmTmirEDzLhopv7kwQZb",
      "include_colab_link": true
    },
    "kernelspec": {
      "name": "python3",
      "display_name": "Python 3"
    }
  },
  "cells": [
    {
      "cell_type": "markdown",
      "metadata": {
        "id": "view-in-github",
        "colab_type": "text"
      },
      "source": [
        "<a href=\"https://colab.research.google.com/github/wcj365/word-count/blob/master/wordcount-python.ipynb\" target=\"_parent\"><img src=\"https://colab.research.google.com/assets/colab-badge.svg\" alt=\"Open In Colab\"/></a>"
      ]
    },
    {
      "cell_type": "markdown",
      "metadata": {
        "id": "H04ZWML-EmR2",
        "colab_type": "text"
      },
      "source": [
        "# Simple Word Count Program"
      ]
    },
    {
      "cell_type": "code",
      "metadata": {
        "id": "hplNm2ZkH5uF",
        "colab_type": "code",
        "colab": {}
      },
      "source": [
        "import os\n",
        "\n",
        "FILE = \"hamlet.txt\""
      ],
      "execution_count": 0,
      "outputs": []
    },
    {
      "cell_type": "code",
      "metadata": {
        "id": "0tXL75rz6pnF",
        "colab_type": "code",
        "colab": {}
      },
      "source": [
        "# Create a sameple data file\n",
        "\n",
        "with open(FILE, \"w\") as file:   # \"w\" = write\n",
        "    file.write(\"To be or\\n\")            # \"\\n\" = new line\n",
        "    file.write(\"Not to be\")\n"
      ],
      "execution_count": 0,
      "outputs": []
    },
    {
      "cell_type": "code",
      "metadata": {
        "id": "jc0ua7Rn9w2o",
        "colab_type": "code",
        "colab": {
          "base_uri": "https://localhost:8080/",
          "height": 35
        },
        "outputId": "a696cb3b-5681-4e20-96d5-c336d2175d42"
      },
      "source": [
        "# Read the lines from the file\n",
        "\n",
        "with open(FILE, \"r\") as file:   # \"r\" = read\n",
        "    lines = file.readlines()\n",
        "\n",
        "print(lines)"
      ],
      "execution_count": 24,
      "outputs": [
        {
          "output_type": "stream",
          "text": [
            "['To be or\\n', 'Not to be']\n"
          ],
          "name": "stdout"
        }
      ]
    },
    {
      "cell_type": "code",
      "metadata": {
        "id": "3Lr_WalkAc9y",
        "colab_type": "code",
        "colab": {
          "base_uri": "https://localhost:8080/",
          "height": 35
        },
        "outputId": "21e156d7-13f9-42a7-cc13-719a6ad0fb58"
      },
      "source": [
        "# Split the lines into lower-case words \n",
        "\n",
        "words = []\n",
        "\n",
        "for line in lines:\n",
        "    line = line.rstrip(\"\\n\")            # remove the extra \"\\n\"  \n",
        "    for word in line.split(\" \"):        # space delimited\n",
        "        words.append(word.lower())      # lower-case\n",
        "\n",
        "words"
      ],
      "execution_count": 25,
      "outputs": [
        {
          "output_type": "execute_result",
          "data": {
            "text/plain": [
              "['to', 'be', 'or', 'not', 'to', 'be']"
            ]
          },
          "metadata": {
            "tags": []
          },
          "execution_count": 25
        }
      ]
    },
    {
      "cell_type": "code",
      "metadata": {
        "id": "4D_SkvkSBviP",
        "colab_type": "code",
        "colab": {
          "base_uri": "https://localhost:8080/",
          "height": 104
        },
        "outputId": "ab4d142f-a687-4aec-9815-d0cd68c6c62b"
      },
      "source": [
        "# Perform word count\n",
        "\n",
        "wordCounts = {}\n",
        "\n",
        "for word in words:\n",
        "    if word in wordCounts.keys():   # check if the word is already in the dict\n",
        "        wordCounts[word] += 1\n",
        "    else:\n",
        "        wordCounts[word] = 1\n",
        "\n",
        "print(wordCounts)                        # hard to read\n",
        "\n",
        "for key, value in wordCounts.items():    # easier to read\n",
        "    print(key, \" = \", value)"
      ],
      "execution_count": 26,
      "outputs": [
        {
          "output_type": "stream",
          "text": [
            "{'to': 2, 'be': 2, 'or': 1, 'not': 1}\n",
            "to  =  2\n",
            "be  =  2\n",
            "or  =  1\n",
            "not  =  1\n"
          ],
          "name": "stdout"
        }
      ]
    },
    {
      "cell_type": "code",
      "metadata": {
        "id": "XXKwDmsTH3I9",
        "colab_type": "code",
        "colab": {}
      },
      "source": [
        "# Delete the file\n",
        "\n",
        "os.remove(FILE)"
      ],
      "execution_count": 0,
      "outputs": []
    },
    {
      "cell_type": "markdown",
      "metadata": {
        "id": "JvsIVHvR6j0J",
        "colab_type": "text"
      },
      "source": [
        ""
      ]
    }
  ]
}